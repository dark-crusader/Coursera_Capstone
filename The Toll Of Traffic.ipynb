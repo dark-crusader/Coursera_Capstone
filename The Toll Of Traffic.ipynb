{
 "cells": [
  {
   "cell_type": "markdown",
   "metadata": {},
   "source": [
    "The Toll Of Traffic\n",
    "=================="
   ]
  },
  {
   "cell_type": "markdown",
   "metadata": {},
   "source": [
    "## Problem Intorduction\n",
    "---"
   ]
  },
  {
   "cell_type": "markdown",
   "metadata": {},
   "source": [
    "_No Development is a better prospect for a city if its heading for an unpanned one._"
   ]
  },
  {
   "cell_type": "markdown",
   "metadata": {},
   "source": [
    "__Bangalore__ has seen rapid expansion and development in the recent decades. Though it has been beneficial to its economy and population, the sudden influx of population and increasing number of vehicles on the road has put a huge strain on the city's roads and its commuters.\n",
    "\n",
    "The city's condition is so bad that it is regularly placed on top for world's most congested cities.\n",
    "\n",
    "References:\n",
    "\n",
    "[Why is Bangalore stuck in Traffic Jams](https://www.bbc.com/news/world-asia-india-38155635)\n",
    "\n",
    "[Bangalore - The World's most traffic congested city](https://www.indianfolk.com/nama-bengaluru-worlds-traffic-congested-city/)\n",
    "\n",
    "[Tom-Tom Traffic Index - Bangalore](https://www.tomtom.com/en_gb/traffic-index/bengaluru-traffic/)\n",
    "\n",
    "The main culprit of the problem seems to be unplanned development of infrastructure and a road network not suitable for daily commutes.\n",
    "\n",
    "The picture below describes the problem aptly. It is a view of Bangalore's Richmond Neighbourhood. We see that some roads remain quite empty and others are occupied 18 - 20 hours a day. Credits for the picture go to Deccan Herald.\n",
    "\n",
    "The traffic also takes a toll on the economy of the city.\n",
    "\n",
    "[The Toll Of Traffic on Cities in India](https://timesofindia.indiatimes.com/india/traffic-congestion-costs-four-major-indian-cities-rs-1-5-lakh-crore-a-year/articleshow/63918040.cms#:~:text=NEW%20DELHI%3A%20Traffic%20congestion%20during,conducted%20by%20global%20consultancy%20firm.)\n",
    "\n",
    "The recent introduction of metro lines seemed a way forward in tackling this problem. But alas, delayed projects for building the required infrastructure for metros to operate on a full scale and the high price of metro travel seem to give little hope.\n",
    "And thus would not provide a solution in the recent future.\n",
    "\n",
    "This project aims to cluster neighbourhoods in Bangalore to find points is the road network which form a bottleneck for traffic flow."
   ]
  },
  {
   "cell_type": "markdown",
   "metadata": {},
   "source": [
    "![A picture depicting Congested roads near MG Road Bangalore](./assets/Bangalore/images/bangalore_traffic_congestion.jpg \"Bangalore Traffic at Peak Hours \")"
   ]
  },
  {
   "cell_type": "markdown",
   "metadata": {},
   "source": [
    "## Data sources\n",
    "---"
   ]
  },
  {
   "cell_type": "markdown",
   "metadata": {},
   "source": [
    "The project uses the following data sources: <br>\n",
    "\n",
    "* [Geospacial Coordinates for Bangalore](https://www.kaggle.com/rmenon1998/bangalore-neighborhoods)\n",
    "\n",
    "    The dataset provides the data for location coordinates of all nighborhoods in Bangalore.\n",
    "\n",
    "\n",
    "* __Foursquare API__ to get data for venues in a neighborhood.\n",
    "\n",
    "    \"Foursquare is the most trusted, independent location data platform for understanding how people move through the real world.\"\n",
    "\n",
    "    We need a Foursquare Developer account to use its API.<br>\n",
    "    The regular account provides 950 API calls a day for extracting location data in any neighborhood."
   ]
  },
  {
   "cell_type": "markdown",
   "metadata": {},
   "source": [
    "[Foursquare API - Getting Started Guide](https://developer.foursquare.com/docs/places-api/getting-started/)\n",
    "\n",
    "![FourSquare Hoe ](./assets/Foursquare/Home.PNG \"Foursquare Developer Home Page\")"
   ]
  },
  {
   "cell_type": "code",
   "execution_count": null,
   "metadata": {},
   "outputs": [],
   "source": []
  }
 ],
 "metadata": {
  "kernelspec": {
   "display_name": "Python 3",
   "language": "python",
   "name": "python3"
  },
  "language_info": {
   "codemirror_mode": {
    "name": "ipython",
    "version": 3
   },
   "file_extension": ".py",
   "mimetype": "text/x-python",
   "name": "python",
   "nbconvert_exporter": "python",
   "pygments_lexer": "ipython3",
   "version": "3.7.7"
  }
 },
 "nbformat": 4,
 "nbformat_minor": 4
}
